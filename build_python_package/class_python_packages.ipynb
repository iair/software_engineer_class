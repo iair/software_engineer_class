{
 "cells": [
  {
   "cell_type": "markdown",
   "id": "6017d945-6d74-4bec-aaf2-59bb2a4cfa28",
   "metadata": {},
   "source": [
    "# Construir un paquete en Python"
   ]
  },
  {
   "cell_type": "markdown",
   "id": "a9a6ca97-4a12-4c4e-b005-0f5247783241",
   "metadata": {},
   "source": [
    "## Clase 9 : Distribución normal\n",
    "\n",
    "Es "
   ]
  },
  {
   "cell_type": "code",
   "execution_count": null,
   "id": "4798cbab-8532-4391-8025-ebe8243c28f2",
   "metadata": {},
   "outputs": [],
   "source": []
  }
 ],
 "metadata": {
  "kernelspec": {
   "display_name": "Python 3",
   "language": "python",
   "name": "python3"
  },
  "language_info": {
   "codemirror_mode": {
    "name": "ipython",
    "version": 3
   },
   "file_extension": ".py",
   "mimetype": "text/x-python",
   "name": "python",
   "nbconvert_exporter": "python",
   "pygments_lexer": "ipython3",
   "version": "3.8.5"
  }
 },
 "nbformat": 4,
 "nbformat_minor": 5
}
