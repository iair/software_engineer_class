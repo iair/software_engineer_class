{
 "cells": [
  {
   "cell_type": "markdown",
   "id": "b0ad359b-8232-4618-999a-2020fa5bdaf1",
   "metadata": {},
   "source": [
    "# Clase para hacer paquetes"
   ]
  },
  {
   "cell_type": "markdown",
   "id": "a4791487-6033-499e-9472-b2307be2e430",
   "metadata": {},
   "source": [
    "## Clase 19 : Organización en módulos"
   ]
  },
  {
   "cell_type": "markdown",
   "id": "4b0c38fa-2e08-48dc-91b5-72502bafe3bf",
   "metadata": {
    "jp-MarkdownHeadingCollapsed": true,
    "tags": []
   },
   "source": [
    "### Windows vs. macOS vs. Linux"
   ]
  },
  {
   "cell_type": "markdown",
   "id": "e480d6ad-8829-4044-aa29-f6f84b21587f",
   "metadata": {},
   "source": [
    "Linux, que utilizan nuestros espacios de trabajo en el aula de Udacity, es un sistema operativo como Windows o macOS. Una diferencia importante es que Linux es gratuito y de código abierto, mientras que Windows es propiedad de Microsoft y macOS de Apple.\n",
    "\n",
    "A lo largo de la lección, puede hacer todo su trabajo en un espacio de trabajo del aula. Estos espacios de trabajo proporcionan interfaces que se conectan a máquinas virtuales en la nube. Sin embargo, si desea ejecutar este código localmente en su computadora, los comandos a usar pueden ser ligeramente diferentes.\n",
    "\n",
    "Si está usando macOS, puede abrir una aplicación llamada \"Terminal\" y usar esencialmente los mismos comandos que usa en el área de trabajo. Eso es porque Linux y MacOS están relacionados.\n",
    "\n",
    "Si está utilizando Windows, la aplicación análoga se llama consola. Los comandos de la consola pueden ser algo diferentes a los comandos de la terminal. Un motor de búsqueda como Google es su mejor amigo para encontrar los comandos correctos en un entorno Windows.\n",
    "\n",
    "El espacio de trabajo del salón de clases tiene un gran beneficio. Puede hacer lo que quiera con el espacio de trabajo, incluida la instalación de paquetes de Python. Y si algo sale mal, puede restablecer el espacio de trabajo y comenzar de cero; sin embargo, siempre descargue sus archivos de código o envíe su código a github o gitlab antes de restablecer un espacio de trabajo. De lo contrario, ¡perderás tu código!"
   ]
  },
  {
   "cell_type": "markdown",
   "id": "bf4f2cd9-dd7c-4733-81f3-d1e0b20adc8e",
   "metadata": {
    "jp-MarkdownHeadingCollapsed": true,
    "tags": []
   },
   "source": [
    "### Cómo modularizar el código siendo capaz de importar las clases para su reutilización"
   ]
  },
  {
   "cell_type": "markdown",
   "id": "45e9f319-56af-487f-9a00-c77a00b40322",
   "metadata": {},
   "source": [
    "Hasta ahora, los ejercicios de codificación se han realizado en cuadernos Jupyter. Los cuadernos de Jupyter son especialmente útiles para aplicaciones de ciencia de datos porque puede discutir datos, analizar datos y compartir un informe, todo en un solo documento; sin embargo, no son ideales para escribir programas modulares, que requieren separar el código en diferentes archivos.\n",
    "\n",
    "En la carpeta 2_modularized_code, encontrarás tres archivos. Puede hacer doble clic en la carpeta en la lista a la izquierda del espacio de trabajo. Observe cómo la clase de distribución y la clase gaussiana se modularizan en diferentes archivos.\n",
    "\n",
    "Gaussiandistribution.py importa la clase de distribución del archivo Generaldistribution.py. La línea de código:\n",
    "\n",
    "de Distribución General Importación Distribución\n",
    "\n",
    "esencialmente pega el código de distribución en la parte superior del archivo de distribución gaussiana cuando ejecuta el código. Verá en el archivo example_code.py un ejemplo de cómo usar la clase Gaussiana.\n",
    "\n",
    "El archivo example_code.py luego importa la clase de distribución gaussiana.\n",
    "\n",
    "Durante el resto de la lección, trabajará con código modularizado en lugar de un cuaderno Jupyter. Revise el código en la carpeta modularized_code y comprenda cómo está todo organizado."
   ]
  },
  {
   "cell_type": "markdown",
   "id": "fe7f77e7-53cf-471f-b2eb-3a465cfe3bfa",
   "metadata": {
    "jp-MarkdownHeadingCollapsed": true,
    "tags": []
   },
   "source": [
    "## Clase 21 Hacer un paquete"
   ]
  },
  {
   "cell_type": "markdown",
   "id": "8bbec114-1ae4-4bc1-8803-899f273b7725",
   "metadata": {},
   "source": [
    "En la sección anterior, el código de distribución y gaussiano se refactorizó en módulos individuales. Un módulo de Python es solo un archivo de Python que contiene código.\n",
    "\n",
    "En la siguiente sección, convertirá el código de distribuciones en un paquete de Python. Un paquete es una colección de módulos de Python. Aunque el código anterior ya podría parecer que era un paquete de Python porque contenía varios archivos, un paquete de Python también necesita un archivo __init__.py. En esta sección, aprenderá cómo crear este archivo __init__.py y luego instalar el paquete en su instalación local de Python.\n",
    "\n",
    "\n",
    "**¿Qué es pip?**\n",
    "\n",
    "Pip es un administrador de paquetes de Python que ayuda con la instalación y desinstalación de paquetes de Python. Es posible que haya usado pip para instalar paquetes usando la línea de comando: pip install numpy. Cuando ejecuta un comando como pip install numpy, pip descargará el paquete desde un repositorio de paquetes de Python llamado PyPi. Sin embargo, para este próximo ejercicio, utilizará pip para instalar un paquete de Python desde una carpeta local en su computadora. La última parte de la lección se centrará en cargar paquetes en PyPi para que pueda compartir su paquete con el mundo.\n",
    "\n",
    "Puede completar esta lección completa dentro del aula utilizando los espacios de trabajo provistos; sin embargo, si desea desarrollar un paquete localmente en su computadora, debe considerar configurar un entorno virtual. De esa manera, si instala su paquete en su computadora, el paquete no se instalará en su instalación principal de Python. Antes de comenzar el próximo ejercicio, la siguiente parte de la lección discutirá qué son los entornos virtuales y cómo usarlos.\n",
    "\n",
    "**Programación Orientada a Objetos y Paquetes de Python**\n",
    "\n",
    "Un paquete de Python no necesita usar programación orientada a objetos. Simplemente podría tener un módulo de Python con un conjunto de funciones. Sin embargo, la mayoría, si no todos, los paquetes populares de Python aprovechan la programación orientada a objetos por varias razones:\n",
    "\n",
    "* Los programas orientados a objetos son relativamente fáciles de expandir, especialmente debido a la herencia.\n",
    "* Los programas orientados a objetos oscurecen la funcionalidad del usuario. Considere los paquetes de scipy. No necesita saber cómo funciona el código real para usar sus clases y métodos"
   ]
  },
  {
   "cell_type": "markdown",
   "id": "99ff4a85-f32e-4761-ba75-5f83e51f2fbe",
   "metadata": {},
   "source": [
    "## Clase de ambiente virtual"
   ]
  },
  {
   "cell_type": "code",
   "execution_count": null,
   "id": "86e2988f-4475-45cc-b733-7a51c860e6bd",
   "metadata": {},
   "outputs": [],
   "source": []
  }
 ],
 "metadata": {
  "kernelspec": {
   "display_name": "Python 3",
   "language": "python",
   "name": "python3"
  },
  "language_info": {
   "codemirror_mode": {
    "name": "ipython",
    "version": 3
   },
   "file_extension": ".py",
   "mimetype": "text/x-python",
   "name": "python",
   "nbconvert_exporter": "python",
   "pygments_lexer": "ipython3",
   "version": "3.8.5"
  }
 },
 "nbformat": 4,
 "nbformat_minor": 5
}
