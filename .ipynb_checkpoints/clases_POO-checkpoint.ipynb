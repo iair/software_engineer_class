{
 "cells": [
  {
   "cell_type": "markdown",
   "id": "f5dfd7ee-4ed5-4d8a-b70f-be3d97a2944f",
   "metadata": {
    "tags": []
   },
   "source": [
    "# Programación orientada a objetos (POO)"
   ]
  },
  {
   "cell_type": "markdown",
   "id": "4f7ff03c-6767-4f68-959f-6bb682c730c5",
   "metadata": {
    "jp-MarkdownHeadingCollapsed": true,
    "tags": []
   },
   "source": [
    "## Clase 6 : Apuntes sobre el uso de los métodos\n",
    "\n",
    "Es mejor cambiar los atributos usando métodos pues de esa forma se hace replicable en el resto del código sin ir cambiando lugar por lugar donde está inscrito\n",
    "\n",
    "**Métodos set y get**"
   ]
  },
  {
   "cell_type": "code",
   "execution_count": 1,
   "id": "1996c6b7-6873-406b-9673-0878b3642ea4",
   "metadata": {},
   "outputs": [],
   "source": [
    "\"\"\" \n",
    "definición de la clase Shirt (polera) con los atributos:\n",
    "-Color\n",
    "-Talla\n",
    "-Estilo\n",
    "-Precio\n",
    "\"\"\"\n",
    "\n",
    "class Shirt:\n",
    "\n",
    "    def __init__(self, shirt_color, shirt_size, shirt_style, shirt_price):\n",
    "        self.color = shirt_color\n",
    "        self.size = shirt_size\n",
    "        self.style = shirt_style\n",
    "        self.price = shirt_price\n",
    "    \n",
    "    def change_price(self, new_price):\n",
    "    \n",
    "        self.price = new_price\n",
    "        \n",
    "    def discount(self, discount):\n",
    "\n",
    "        return self.price * (1 - discount)"
   ]
  },
  {
   "cell_type": "code",
   "execution_count": 2,
   "id": "33862230-6cd7-4d82-8484-97dd0d83c406",
   "metadata": {},
   "outputs": [],
   "source": [
    "\"\"\"\n",
    "HACER:\n",
    " - crea un objeto de camisa con las siguientes características:\n",
    " - color rojo, talla S, modelo manga larga y precio 25\n",
    " - almacena el objeto en una variable llamada shirt_one\n",
    "\"\"\"\n",
    "shirt_one = Shirt('red','S','long-sleeve',25)"
   ]
  },
  {
   "cell_type": "code",
   "execution_count": 3,
   "id": "7d524635-bfde-4257-8419-f6253208b625",
   "metadata": {},
   "outputs": [],
   "source": [
    "\"\"\"\n",
    "La última parte del video menciona que acceder a los atributos en Python puede ser algo diferente que en otros lenguajes de programación como Java y C++. \n",
    "Esta sección entra en más detalles.\n",
    "\n",
    "La clase de camiseta tiene un método para cambiar el precio de la camiseta: shirt_one.change_price(20). \n",
    "En Python, también puede cambiar los valores de un atributo con la siguiente sintaxis:\n",
    "\"\"\"\n",
    "\n",
    "shirt_one.price = 10\n",
    "shirt_one.price = 20\n",
    "shirt_one.color = 'red'\n",
    "shirt_one.size = 'M'\n",
    "shirt_one.style = 'long_sleeve'\n",
    "\n",
    "\"\"\"\n",
    "Este código accede y cambia los atributos de precio, color, tamaño y estilo directamente. \n",
    "El acceso directo a los atributos estaría mal visto en muchos otros lenguajes, pero no en Python. \n",
    "En cambio, la convención general de programación orientada a objetos es usar métodos para acceder a los atributos o cambiar los valores de los atributos. \n",
    "Estos métodos se denominan métodos set y get o métodos setter y getter.\n",
    "\n",
    "Un método get es para obtener un valor de atributo. Un método establecido es para cambiar un valor de atributo. \n",
    "Si estuviera escribiendo una clase Shirt, el código podría verse así:\n",
    "\"\"\"\n",
    "\n",
    "class Shirt:\n",
    "\n",
    "    def __init__(self, shirt_color, shirt_size, shirt_style, shirt_price):\n",
    "        self._price = shirt_price\n",
    "\n",
    "    def get_price(self):\n",
    "      return self._price\n",
    "\n",
    "    def set_price(self, new_price):\n",
    "      self._price = new_price"
   ]
  },
  {
   "cell_type": "markdown",
   "id": "2ce8ddc9-0a75-410b-b5db-31e278f40fe4",
   "metadata": {},
   "source": [
    "En la definición de clase, el guión bajo delante del precio es una convención de Python algo controvertida. En otros lenguajes como C++ o Java, el precio podría etiquetarse explícitamente como una variable privada. Esto prohibiría que un objeto acceda al atributo de precio directamente como \n",
    "shirt_one._price = 15. \n",
    "\n",
    "Sin embargo, Python no distingue entre variables públicas y privadas como otros lenguajes. Por lo tanto, existe cierta controversia sobre el uso de la convención de subrayado, así como los métodos get y set en Python. ¿Por qué usar métodos get y set en Python cuando Python no fue diseñado para usarlos?\n",
    "\n",
    "Al mismo tiempo, encontrará que algunos programadores de Python desarrollan programas orientados a objetos usando métodos get y set de todos modos. Siguiendo la convención de Python, el guión bajo delante del precio es para que el programador sepa que solo se debe acceder al precio con los métodos get y set en lugar de acceder al precio directamente con shirt_one._price. Sin embargo, un programador aún podría acceder a _price directamente porque no hay nada en el lenguaje Python que impida el acceso directo.\n",
    "\n",
    "Para reiterar, un programador técnicamente aún podría hacer algo como shirt_one._price = 10, y el código funcionaría. Pero acceder directamente al precio, en este caso, no sería seguir la intención de cómo se diseñó la clase Shirt.\n",
    "\n",
    "Uno de los beneficios de los métodos set y get es que, como se mencionó anteriormente en el curso, puede ocultar la implementación de su usuario. Tal vez originalmente una variable se codificó como una lista y luego se convirtió en un diccionario. Con los métodos set y get, puede cambiar fácilmente la forma en que se accede a esa variable. Sin los métodos set y get, tendría que ir a cada lugar del código que accedió a la variable directamente y cambiar el código."
   ]
  },
  {
   "cell_type": "markdown",
   "id": "de6dbf2e-c6cd-4961-9951-3d90c7f4c5b6",
   "metadata": {
    "jp-MarkdownHeadingCollapsed": true,
    "tags": []
   },
   "source": [
    "## Clase 8 : Comentar código orientado a objetos\n",
    "\n",
    "¿Notaste algo especial en la clave de respuestas del ejercicio anterior? ¡La clase Pantalones y la clase Vendedor contenían cadenas de documentación! Una cadena de documentación es un tipo de comentario que describe cómo funciona un módulo, función, clase o método de Python. Las cadenas de documentos, por lo tanto, no son exclusivas de la programación orientada a objetos. Esta sección del curso simplemente le recuerda que use cadenas de documentación y comente su código. No solo lo ayudará a comprender y mantener su código. También te hará un mejor candidato para el trabajo.\n",
    "\n",
    "Link para referencia bibliográfica <https://sphinxcontrib-napoleon.readthedocs.io/en/latest/example_google.html>\n",
    "\n",
    "**Docstrings y código orientado a objetos**\n",
    "\n",
    "A continuación se muestra un ejemplo de una clase con docstrings y algunas cosas a tener en cuenta:\n",
    "\n",
    "Asegúrese de sangrar sus cadenas de documentos correctamente o el código no se ejecutará. Una cadena de documentos debe tener una sangría debajo de la clase o el método que se describe.\n",
    "No tiene que definir 'self' en las cadenas de documentación de su método. Se entiende que cualquier método se tendrá a sí mismo como la primera entrada del método."
   ]
  },
  {
   "cell_type": "code",
   "execution_count": 4,
   "id": "25155878-9171-4301-857e-c46fa1fcd639",
   "metadata": {},
   "outputs": [],
   "source": [
    "class Pants:\n",
    "    \"\"\"The Pants class represents an article of clothing sold in a store\n",
    "    \"\"\"\n",
    "\n",
    "    def __init__(self, color, waist_size, length, price):\n",
    "        \"\"\"Method for initializing a Pants object\n",
    "\n",
    "        Args: \n",
    "            color (str)\n",
    "            waist_size (int)\n",
    "            length (int)\n",
    "            price (float)\n",
    "\n",
    "        Attributes:\n",
    "            color (str): color of a pants object\n",
    "            waist_size (str): waist size of a pants object\n",
    "            length (str): length of a pants object\n",
    "            price (float): price of a pants object\n",
    "        \"\"\"\n",
    "\n",
    "        self.color = color\n",
    "        self.waist_size = waist_size\n",
    "        self.length = length\n",
    "        self.price = price\n",
    "\n",
    "    def change_price(self, new_price):\n",
    "        \"\"\"The change_price method changes the price attribute of a pants object\n",
    "\n",
    "        Args: \n",
    "            new_price (float): the new price of the pants object\n",
    "\n",
    "        Returns: None\n",
    "\n",
    "        \"\"\"\n",
    "        self.price = new_price\n",
    "\n",
    "    def discount(self, percentage):\n",
    "        \"\"\"The discount method outputs a discounted price of a pants object\n",
    "\n",
    "        Args:\n",
    "            percentage (float): a decimal representing the amount to discount\n",
    "\n",
    "        Returns:\n",
    "            float: the discounted price\n",
    "        \"\"\"\n",
    "        return self.price * (1 - percentage)"
   ]
  },
  {
   "cell_type": "code",
   "execution_count": 5,
   "id": "257551e7-6da4-4a59-a8d8-b2f613f3d24d",
   "metadata": {},
   "outputs": [
    {
     "name": "stdout",
     "output_type": "stream",
     "text": [
      "50\n",
      "44.0\n",
      "44.0\n"
     ]
    }
   ],
   "source": [
    "### TODO:\n",
    "\"\"\" - instanciar un objeto pantalón con las siguientes características:\n",
    "    - color azul, tamaño de la cintura 44, largo M, y precio 50\n",
    "    - almacenar el objeto en una variable llamada shirt_one\n",
    "\"\"\"\n",
    "pants_one = Pants('blue',44,'long-sleeve',50)\n",
    "\n",
    "\"\"\" - Mostrar el precio asignado al instanciarlo\n",
    "    - Mostrar el precio con descuento\n",
    "    - Usar el método de cambio de precio para cambiar el precio \n",
    "\"\"\"\n",
    "print(pants_one.price)\n",
    "print(pants_one.discount(0.12))\n",
    "pants_one.change_price(pants_one.discount(0.12))\n",
    "print(pants_one.price)"
   ]
  },
  {
   "cell_type": "markdown",
   "id": "956a64a2-b327-4e52-bca1-7b877580830d",
   "metadata": {},
   "source": [
    "## Clase 9: Gaussian"
   ]
  },
  {
   "cell_type": "code",
   "execution_count": null,
   "id": "ea613a9b-8744-4f6b-8d1c-f6bf6482f69c",
   "metadata": {},
   "outputs": [],
   "source": []
  }
 ],
 "metadata": {
  "kernelspec": {
   "display_name": "Python 3",
   "language": "python",
   "name": "python3"
  },
  "language_info": {
   "codemirror_mode": {
    "name": "ipython",
    "version": 3
   },
   "file_extension": ".py",
   "mimetype": "text/x-python",
   "name": "python",
   "nbconvert_exporter": "python",
   "pygments_lexer": "ipython3",
   "version": "3.8.5"
  }
 },
 "nbformat": 4,
 "nbformat_minor": 5
}
